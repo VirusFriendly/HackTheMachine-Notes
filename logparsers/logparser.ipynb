{
 "cells": [
  {
   "cell_type": "markdown",
   "metadata": {},
   "source": [
    "By @VirusFriendly"
   ]
  },
  {
   "cell_type": "code",
   "execution_count": 1,
   "metadata": {},
   "outputs": [],
   "source": [
    "import base64\n",
    "import json\n",
    "import time\n",
    "import pandas"
   ]
  },
  {
   "cell_type": "code",
   "execution_count": 2,
   "metadata": {},
   "outputs": [],
   "source": [
    "def find_frame(data):\n",
    "    begin = -1\n",
    "    \n",
    "    if data[:2] != b'\\x10\\x02':\n",
    "        for i in range(1, len(data)-7):\n",
    "            if data[i:i+4] == b'\\x10\\x03\\x10\\x02':\n",
    "                begin = i+2\n",
    "                break\n",
    "    else:\n",
    "        begin = 0\n",
    "    \n",
    "    return(begin)"
   ]
  },
  {
   "cell_type": "code",
   "execution_count": 3,
   "metadata": {},
   "outputs": [],
   "source": [
    "def parse_frame(data):\n",
    "    padding = find_frame(data)\n",
    "    \n",
    "    if find_frame(data) == -1:\n",
    "        display('Bad Frame')\n",
    "        display(data)\n",
    "        return None\n",
    "        \n",
    "    data = data[padding:]\n",
    "\n",
    "    if data[5+data[3]:data[3]+7] != b'\\x10\\x03':\n",
    "        if find_frame(data[5+data[3]:]) == -1:\n",
    "            display('Frame Length Fail')\n",
    "            return None\n",
    "        \n",
    "        # This data uses 0x1002 to symbolize start of frame and 0x1003 to symbolize the end of frame\n",
    "        # To protect against 0x1003 being included in the datastream and misinterpreted as an end of frame\n",
    "        # The device escapes 0x10 as 0x1010. Thus 0x1003 will become 0x101003.\n",
    "        # This causes our length checks to fail, so we must detect them and de-escape the 0x1010 sequence\n",
    "        \n",
    "        frags = list()\n",
    "        frag_start = 0\n",
    "        \n",
    "        for x in range(2, 5+data[3]+find_frame(data[5+data[3]:])):\n",
    "            if data[x:x+2] == b'\\x10\\x10' and x >= frag_start:\n",
    "                padding=padding+1\n",
    "                frags.append(data[frag_start:x+1])\n",
    "                frag_start = x+2\n",
    "        \n",
    "        if 0 < frag_start < len(data):\n",
    "            frags.append(data[frag_start:])\n",
    "            \n",
    "        y=b''.join(frags)\n",
    "        \n",
    "        if (len(y) < 3) or (len(y) < y[3]+5) or (len(y) < y[3]+7) or (y[y[3]+5:y[3]+7] != b'\\x10\\x03'):\n",
    "            display('bad frame not repaired')\n",
    "            display(data[:5+data[3]+find_frame(data[5+data[3]:])])\n",
    "            display(y[:data[3]+7])\n",
    "            return None\n",
    "        \n",
    "        data=y\n",
    "\n",
    "    n2kframe = dict()\n",
    "    n2kframe['start'] = data[0:2]\n",
    "    n2kframe['cmd'] = data[2]\n",
    "    n2kframe['len'] = data[3]\n",
    "    \n",
    "    if n2kframe['cmd'] == 147:\n",
    "        n2kframe['priority'] = data[4]\n",
    "        n2kframe['pgn'] = int.from_bytes(data[5:8], 'little')\n",
    "        n2kframe['dst'] = data[8]\n",
    "        n2kframe['src'] = data[9]\n",
    "        n2kframe['timestamp'] = int.from_bytes(data[10:14], 'little')\n",
    "        n2kframe['datalen'] = data[14]\n",
    "\n",
    "        if n2kframe['datalen'] > n2kframe['len']-11:\n",
    "            display(\"Data Length Fail\")\n",
    "            return None\n",
    "\n",
    "        pgndata = list()\n",
    "\n",
    "        for byte in data[15:15+n2kframe['datalen']]:\n",
    "            pgndata.append('{:02x}'.format(byte))\n",
    "\n",
    "        n2kframe['data'] = ','.join(pgndata)\n",
    "        n2kframe['crc'] = data[4+n2kframe['len']]\n",
    "    else:\n",
    "        unk_bytes = list()\n",
    "        \n",
    "        for byte in data[4:5+n2kframe['len']]:\n",
    "            unk_bytes.append('{:02x}'.format(byte))\n",
    "        \n",
    "        n2kframe['data'] = ','.join(unk_bytes)\n",
    "        \n",
    "        for label in ['priority', 'pgn', 'dst', 'src', 'timestamp', 'datalen', 'crc']:\n",
    "            n2kframe[label] = ''\n",
    "    \n",
    "    n2kframe['end'] = data[5+n2kframe['len']:5+n2kframe['len']+2]\n",
    "    \n",
    "    return n2kframe, n2kframe['len']+7+padding"
   ]
  },
  {
   "cell_type": "code",
   "execution_count": 4,
   "metadata": {},
   "outputs": [],
   "source": [
    "def parse_frames(data):\n",
    "    begin = 0\n",
    "    n2kframes = list()\n",
    "    \n",
    "    begin = find_frame(data)\n",
    "    \n",
    "    frame_no = 0\n",
    "    \n",
    "    while(True):\n",
    "        if begin < 0:\n",
    "            print(\"Could not find next frame\")\n",
    "            break\n",
    "        elif begin > len(data)-7:\n",
    "            break\n",
    "            \n",
    "        parsed_data = parse_frame(data[begin:])\n",
    "        \n",
    "        if parsed_data == None:\n",
    "            print (\"Bad frame at %s, finding next frame\" % frame_no)\n",
    "            begin=begin+7+find_frame(data[begin+7:])\n",
    "            continue\n",
    "            \n",
    "        (frame, length) = parsed_data\n",
    "        n2kframes.append(frame)\n",
    "        begin=begin+length\n",
    "        \n",
    "        frame_no = frame_no+1\n",
    "    \n",
    "    return n2kframes"
   ]
  },
  {
   "cell_type": "code",
   "execution_count": 5,
   "metadata": {},
   "outputs": [],
   "source": [
    "def display_frame(n2kframe):\n",
    "    return ','.join((str(n2kframe['priority']), str(n2kframe['pgn']), str(n2kframe['src']), str(n2kframe['dst']), str(n2kframe['datalen']), n2kframe['data']))"
   ]
  },
  {
   "cell_type": "code",
   "execution_count": 6,
   "metadata": {},
   "outputs": [],
   "source": [
    "def parse_timestamp(timestamp):\n",
    "    epoch = timestamp/1000.0\n",
    "    millsec = timestamp%1000\n",
    "    epoch_str = time.strftime('%Y-%m-%d-%H:%M:%S', time.gmtime(epoch))\n",
    "    return \"%s.%d\" % (epoch_str, millsec)"
   ]
  },
  {
   "cell_type": "code",
   "execution_count": 7,
   "metadata": {},
   "outputs": [],
   "source": [
    "def parse_log(logfile):\n",
    "    lines = None\n",
    "    capture = b''\n",
    "    maxtime = 0\n",
    "\n",
    "    with open(logfile) as n2klog:\n",
    "        lines = n2klog.read().splitlines()\n",
    "\n",
    "    for line in lines:\n",
    "        log=json.loads(line)\n",
    "\n",
    "        if int(log[\"milliunixtimestamp\"]) >= maxtime:\n",
    "            if 0 == maxtime:\n",
    "                display(f\"First timestamp: {int(log['milliunixtimestamp'])}\")\n",
    "                \n",
    "            maxtime=int(log[\"milliunixtimestamp\"])\n",
    "        else:\n",
    "            print(\"!!!!OUT OF SEQUENCE LOG!!!!!\")\n",
    "            print(maxtime, int(log[\"milliunixtimestamp\"]))\n",
    "\n",
    "        data = base64.b64decode(log['data'])\n",
    "        capture = capture+data\n",
    "        \n",
    "    display(f\"Last timestamp: {maxtime}\")\n",
    "\n",
    "    return pandas.DataFrame(parse_frames(capture))"
   ]
  },
  {
   "cell_type": "code",
   "execution_count": 8,
   "metadata": {},
   "outputs": [
    {
     "name": "stdout",
     "output_type": "stream",
     "text": [
      "first log\n",
      "The history saving thread hit an unexpected error (OperationalError('disk I/O error',)).History will not be written to the database."
     ]
    },
    {
     "data": {
      "text/plain": [
       "'First timestamp: 1596916750497'"
      ]
     },
     "metadata": {},
     "output_type": "display_data"
    },
    {
     "name": "stdout",
     "output_type": "stream",
     "text": [
      "\n"
     ]
    },
    {
     "data": {
      "text/plain": [
       "'Last timestamp: 1596917535978'"
      ]
     },
     "metadata": {},
     "output_type": "display_data"
    }
   ],
   "source": [
    "n2k_logs = list()\n",
    "print(\"first log\")\n",
    "n2k_logs.append(parse_log('NMEA2000PacketCapture2021.log'))\n",
    "#print(\"second log\")\n",
    "#n2k_logs.append(parse_log('NMEA2000PacketCapture2021b.log'))\n",
    "\n",
    "# This second log seems to be a "
   ]
  },
  {
   "cell_type": "code",
   "execution_count": 9,
   "metadata": {
    "scrolled": true
   },
   "outputs": [
    {
     "data": {
      "text/html": [
       "<div>\n",
       "<style scoped>\n",
       "    .dataframe tbody tr th:only-of-type {\n",
       "        vertical-align: middle;\n",
       "    }\n",
       "\n",
       "    .dataframe tbody tr th {\n",
       "        vertical-align: top;\n",
       "    }\n",
       "\n",
       "    .dataframe thead th {\n",
       "        text-align: right;\n",
       "    }\n",
       "</style>\n",
       "<table border=\"1\" class=\"dataframe\">\n",
       "  <thead>\n",
       "    <tr style=\"text-align: right;\">\n",
       "      <th></th>\n",
       "      <th>start</th>\n",
       "      <th>cmd</th>\n",
       "      <th>len</th>\n",
       "      <th>priority</th>\n",
       "      <th>pgn</th>\n",
       "      <th>dst</th>\n",
       "      <th>src</th>\n",
       "      <th>timestamp</th>\n",
       "      <th>datalen</th>\n",
       "      <th>data</th>\n",
       "      <th>crc</th>\n",
       "      <th>end</th>\n",
       "    </tr>\n",
       "  </thead>\n",
       "  <tbody>\n",
       "    <tr>\n",
       "      <th>1</th>\n",
       "      <td>b'\\x10\\x02'</td>\n",
       "      <td>147</td>\n",
       "      <td>19</td>\n",
       "      <td>3</td>\n",
       "      <td>61184</td>\n",
       "      <td>0</td>\n",
       "      <td>16</td>\n",
       "      <td>23121358</td>\n",
       "      <td>8</td>\n",
       "      <td>01,7e,7e,00,00,00,09,00</td>\n",
       "      <td>78</td>\n",
       "      <td>b'\\x10\\x03'</td>\n",
       "    </tr>\n",
       "    <tr>\n",
       "      <th>12</th>\n",
       "      <td>b'\\x10\\x02'</td>\n",
       "      <td>147</td>\n",
       "      <td>19</td>\n",
       "      <td>3</td>\n",
       "      <td>61184</td>\n",
       "      <td>0</td>\n",
       "      <td>16</td>\n",
       "      <td>23121409</td>\n",
       "      <td>8</td>\n",
       "      <td>01,7e,7e,00,00,00,09,00</td>\n",
       "      <td>26</td>\n",
       "      <td>b'\\x10\\x03'</td>\n",
       "    </tr>\n",
       "    <tr>\n",
       "      <th>21</th>\n",
       "      <td>b'\\x10\\x02'</td>\n",
       "      <td>147</td>\n",
       "      <td>19</td>\n",
       "      <td>3</td>\n",
       "      <td>61184</td>\n",
       "      <td>0</td>\n",
       "      <td>16</td>\n",
       "      <td>23121459</td>\n",
       "      <td>8</td>\n",
       "      <td>01,7e,7e,00,00,00,09,00</td>\n",
       "      <td>232</td>\n",
       "      <td>b'\\x10\\x03'</td>\n",
       "    </tr>\n",
       "    <tr>\n",
       "      <th>32</th>\n",
       "      <td>b'\\x10\\x02'</td>\n",
       "      <td>147</td>\n",
       "      <td>19</td>\n",
       "      <td>3</td>\n",
       "      <td>61184</td>\n",
       "      <td>0</td>\n",
       "      <td>16</td>\n",
       "      <td>23121509</td>\n",
       "      <td>8</td>\n",
       "      <td>01,7e,7e,00,00,00,09,00</td>\n",
       "      <td>182</td>\n",
       "      <td>b'\\x10\\x03'</td>\n",
       "    </tr>\n",
       "    <tr>\n",
       "      <th>40</th>\n",
       "      <td>b'\\x10\\x02'</td>\n",
       "      <td>147</td>\n",
       "      <td>19</td>\n",
       "      <td>3</td>\n",
       "      <td>61184</td>\n",
       "      <td>0</td>\n",
       "      <td>16</td>\n",
       "      <td>23121559</td>\n",
       "      <td>8</td>\n",
       "      <td>01,7e,7e,00,00,00,09,00</td>\n",
       "      <td>132</td>\n",
       "      <td>b'\\x10\\x03'</td>\n",
       "    </tr>\n",
       "    <tr>\n",
       "      <th>...</th>\n",
       "      <td>...</td>\n",
       "      <td>...</td>\n",
       "      <td>...</td>\n",
       "      <td>...</td>\n",
       "      <td>...</td>\n",
       "      <td>...</td>\n",
       "      <td>...</td>\n",
       "      <td>...</td>\n",
       "      <td>...</td>\n",
       "      <td>...</td>\n",
       "      <td>...</td>\n",
       "      <td>...</td>\n",
       "    </tr>\n",
       "    <tr>\n",
       "      <th>168722</th>\n",
       "      <td>b'\\x10\\x02'</td>\n",
       "      <td>147</td>\n",
       "      <td>19</td>\n",
       "      <td>3</td>\n",
       "      <td>61184</td>\n",
       "      <td>0</td>\n",
       "      <td>16</td>\n",
       "      <td>23906546</td>\n",
       "      <td>8</td>\n",
       "      <td>01,7e,7e,00,00,00,09,00</td>\n",
       "      <td>35</td>\n",
       "      <td>b'\\x10\\x03'</td>\n",
       "    </tr>\n",
       "    <tr>\n",
       "      <th>168731</th>\n",
       "      <td>b'\\x10\\x02'</td>\n",
       "      <td>147</td>\n",
       "      <td>19</td>\n",
       "      <td>3</td>\n",
       "      <td>61184</td>\n",
       "      <td>0</td>\n",
       "      <td>16</td>\n",
       "      <td>23906597</td>\n",
       "      <td>8</td>\n",
       "      <td>01,7e,7e,00,00,00,09,00</td>\n",
       "      <td>239</td>\n",
       "      <td>b'\\x10\\x03'</td>\n",
       "    </tr>\n",
       "    <tr>\n",
       "      <th>168740</th>\n",
       "      <td>b'\\x10\\x02'</td>\n",
       "      <td>147</td>\n",
       "      <td>19</td>\n",
       "      <td>3</td>\n",
       "      <td>61184</td>\n",
       "      <td>0</td>\n",
       "      <td>16</td>\n",
       "      <td>23906647</td>\n",
       "      <td>8</td>\n",
       "      <td>01,7e,7e,00,00,00,09,00</td>\n",
       "      <td>189</td>\n",
       "      <td>b'\\x10\\x03'</td>\n",
       "    </tr>\n",
       "    <tr>\n",
       "      <th>168752</th>\n",
       "      <td>b'\\x10\\x02'</td>\n",
       "      <td>147</td>\n",
       "      <td>19</td>\n",
       "      <td>3</td>\n",
       "      <td>61184</td>\n",
       "      <td>0</td>\n",
       "      <td>16</td>\n",
       "      <td>23906697</td>\n",
       "      <td>8</td>\n",
       "      <td>01,7e,7e,00,00,00,09,00</td>\n",
       "      <td>139</td>\n",
       "      <td>b'\\x10\\x03'</td>\n",
       "    </tr>\n",
       "    <tr>\n",
       "      <th>168764</th>\n",
       "      <td>b'\\x10\\x02'</td>\n",
       "      <td>147</td>\n",
       "      <td>19</td>\n",
       "      <td>3</td>\n",
       "      <td>61184</td>\n",
       "      <td>0</td>\n",
       "      <td>16</td>\n",
       "      <td>23906747</td>\n",
       "      <td>8</td>\n",
       "      <td>01,7e,7e,00,00,00,09,00</td>\n",
       "      <td>89</td>\n",
       "      <td>b'\\x10\\x03'</td>\n",
       "    </tr>\n",
       "  </tbody>\n",
       "</table>\n",
       "<p>15656 rows × 12 columns</p>\n",
       "</div>"
      ],
      "text/plain": [
       "              start  cmd  len priority    pgn dst src timestamp datalen  \\\n",
       "1       b'\\x10\\x02'  147   19        3  61184   0  16  23121358       8   \n",
       "12      b'\\x10\\x02'  147   19        3  61184   0  16  23121409       8   \n",
       "21      b'\\x10\\x02'  147   19        3  61184   0  16  23121459       8   \n",
       "32      b'\\x10\\x02'  147   19        3  61184   0  16  23121509       8   \n",
       "40      b'\\x10\\x02'  147   19        3  61184   0  16  23121559       8   \n",
       "...             ...  ...  ...      ...    ...  ..  ..       ...     ...   \n",
       "168722  b'\\x10\\x02'  147   19        3  61184   0  16  23906546       8   \n",
       "168731  b'\\x10\\x02'  147   19        3  61184   0  16  23906597       8   \n",
       "168740  b'\\x10\\x02'  147   19        3  61184   0  16  23906647       8   \n",
       "168752  b'\\x10\\x02'  147   19        3  61184   0  16  23906697       8   \n",
       "168764  b'\\x10\\x02'  147   19        3  61184   0  16  23906747       8   \n",
       "\n",
       "                           data  crc          end  \n",
       "1       01,7e,7e,00,00,00,09,00   78  b'\\x10\\x03'  \n",
       "12      01,7e,7e,00,00,00,09,00   26  b'\\x10\\x03'  \n",
       "21      01,7e,7e,00,00,00,09,00  232  b'\\x10\\x03'  \n",
       "32      01,7e,7e,00,00,00,09,00  182  b'\\x10\\x03'  \n",
       "40      01,7e,7e,00,00,00,09,00  132  b'\\x10\\x03'  \n",
       "...                         ...  ...          ...  \n",
       "168722  01,7e,7e,00,00,00,09,00   35  b'\\x10\\x03'  \n",
       "168731  01,7e,7e,00,00,00,09,00  239  b'\\x10\\x03'  \n",
       "168740  01,7e,7e,00,00,00,09,00  189  b'\\x10\\x03'  \n",
       "168752  01,7e,7e,00,00,00,09,00  139  b'\\x10\\x03'  \n",
       "168764  01,7e,7e,00,00,00,09,00   89  b'\\x10\\x03'  \n",
       "\n",
       "[15656 rows x 12 columns]"
      ]
     },
     "metadata": {},
     "output_type": "display_data"
    }
   ],
   "source": [
    "for n2k_log in n2k_logs:\n",
    "    display(n2k_log[n2k_log.src == 16])"
   ]
  },
  {
   "cell_type": "code",
   "execution_count": 10,
   "metadata": {},
   "outputs": [
    {
     "data": {
      "text/plain": [
       "'SoManyMessages'"
      ]
     },
     "metadata": {},
     "output_type": "display_data"
    },
    {
     "data": {
      "text/plain": [
       "[59392,\n",
       " 59904,\n",
       " 60928,\n",
       " 61184,\n",
       " 126208,\n",
       " 126992,\n",
       " 127250,\n",
       " 127251,\n",
       " 127257,\n",
       " 127258,\n",
       " 128259,\n",
       " 128267,\n",
       " 128275,\n",
       " 129025,\n",
       " 129026,\n",
       " 129029,\n",
       " 129033,\n",
       " 129044,\n",
       " 129538,\n",
       " 129539,\n",
       " 129540,\n",
       " 130306,\n",
       " 130323,\n",
       " 130821,\n",
       " 130823,\n",
       " 130827,\n",
       " 130945]"
      ]
     },
     "metadata": {},
     "output_type": "display_data"
    },
    {
     "data": {
      "text/plain": [
       "'pgns from both logs'"
      ]
     },
     "metadata": {},
     "output_type": "display_data"
    },
    {
     "data": {
      "text/plain": [
       "[59392,\n",
       " 59904,\n",
       " 60928,\n",
       " 61184,\n",
       " 126208,\n",
       " 126992,\n",
       " 127250,\n",
       " 127251,\n",
       " 127257,\n",
       " 127258,\n",
       " 128259,\n",
       " 128267,\n",
       " 128275,\n",
       " 129025,\n",
       " 129026,\n",
       " 129029,\n",
       " 129033,\n",
       " 129044,\n",
       " 129538,\n",
       " 129539,\n",
       " 129540,\n",
       " 130306,\n",
       " 130323,\n",
       " 130821,\n",
       " 130823,\n",
       " 130827,\n",
       " 130945]"
      ]
     },
     "metadata": {},
     "output_type": "display_data"
    }
   ],
   "source": [
    "# This includes non-NMEA2000 canbus IDs as PGNs\n",
    "\n",
    "display(\"SoManyMessages\")\n",
    "pgns_together = list()\n",
    "\n",
    "for n2k_log in n2k_logs:\n",
    "    pgns_seperate = list()\n",
    "    \n",
    "    for pgn in n2k_log[n2k_log.pgn != ''].sort_values(by=['pgn']).pgn.unique():\n",
    "        pgns_seperate.append(pgn)\n",
    "        \n",
    "        if pgn not in pgns_together:\n",
    "            pgns_together.append(pgn)\n",
    "\n",
    "    display(pgns_seperate)\n",
    "    \n",
    "display(\"pgns from both logs\", pgns_together)"
   ]
  },
  {
   "cell_type": "code",
   "execution_count": 11,
   "metadata": {},
   "outputs": [
    {
     "data": {
      "text/plain": [
       "'WhatIsThis'"
      ]
     },
     "metadata": {},
     "output_type": "display_data"
    },
    {
     "data": {
      "text/html": [
       "<div>\n",
       "<style scoped>\n",
       "    .dataframe tbody tr th:only-of-type {\n",
       "        vertical-align: middle;\n",
       "    }\n",
       "\n",
       "    .dataframe tbody tr th {\n",
       "        vertical-align: top;\n",
       "    }\n",
       "\n",
       "    .dataframe thead th {\n",
       "        text-align: right;\n",
       "    }\n",
       "</style>\n",
       "<table border=\"1\" class=\"dataframe\">\n",
       "  <thead>\n",
       "    <tr style=\"text-align: right;\">\n",
       "      <th></th>\n",
       "      <th>src</th>\n",
       "      <th>device</th>\n",
       "    </tr>\n",
       "  </thead>\n",
       "  <tbody>\n",
       "    <tr>\n",
       "      <th>12</th>\n",
       "      <td>1</td>\n",
       "      <td>[NMEA2000]</td>\n",
       "    </tr>\n",
       "    <tr>\n",
       "      <th>9</th>\n",
       "      <td>2</td>\n",
       "      <td>[GPS, NMEA2000]</td>\n",
       "    </tr>\n",
       "    <tr>\n",
       "      <th>11</th>\n",
       "      <td>3</td>\n",
       "      <td>[NMEA2000, Controller]</td>\n",
       "    </tr>\n",
       "    <tr>\n",
       "      <th>8</th>\n",
       "      <td>4</td>\n",
       "      <td>[Auto Pilot, NMEA2000, Controller]</td>\n",
       "    </tr>\n",
       "    <tr>\n",
       "      <th>10</th>\n",
       "      <td>5</td>\n",
       "      <td>[Auto Pilot, NMEA2000]</td>\n",
       "    </tr>\n",
       "    <tr>\n",
       "      <th>1</th>\n",
       "      <td>16</td>\n",
       "      <td>[Unk_61184]</td>\n",
       "    </tr>\n",
       "    <tr>\n",
       "      <th>6</th>\n",
       "      <td>32</td>\n",
       "      <td>[Unk_61184]</td>\n",
       "    </tr>\n",
       "    <tr>\n",
       "      <th>7</th>\n",
       "      <td>35</td>\n",
       "      <td>[Speed, NMEA2000]</td>\n",
       "    </tr>\n",
       "    <tr>\n",
       "      <th>0</th>\n",
       "      <td>36</td>\n",
       "      <td>[Weather, NMEA2000, GPS, Unk_130945]</td>\n",
       "    </tr>\n",
       "    <tr>\n",
       "      <th>2</th>\n",
       "      <td>48</td>\n",
       "      <td>[Unk_61184]</td>\n",
       "    </tr>\n",
       "    <tr>\n",
       "      <th>3</th>\n",
       "      <td>50</td>\n",
       "      <td>[Unk_61184]</td>\n",
       "    </tr>\n",
       "    <tr>\n",
       "      <th>4</th>\n",
       "      <td>64</td>\n",
       "      <td>[Unk_61184]</td>\n",
       "    </tr>\n",
       "    <tr>\n",
       "      <th>5</th>\n",
       "      <td>65</td>\n",
       "      <td>[Unk_61184]</td>\n",
       "    </tr>\n",
       "  </tbody>\n",
       "</table>\n",
       "</div>"
      ],
      "text/plain": [
       "    src                                device\n",
       "12    1                            [NMEA2000]\n",
       "9     2                       [GPS, NMEA2000]\n",
       "11    3                [NMEA2000, Controller]\n",
       "8     4    [Auto Pilot, NMEA2000, Controller]\n",
       "10    5                [Auto Pilot, NMEA2000]\n",
       "1    16                           [Unk_61184]\n",
       "6    32                           [Unk_61184]\n",
       "7    35                     [Speed, NMEA2000]\n",
       "0    36  [Weather, NMEA2000, GPS, Unk_130945]\n",
       "2    48                           [Unk_61184]\n",
       "3    50                           [Unk_61184]\n",
       "4    64                           [Unk_61184]\n",
       "5    65                           [Unk_61184]"
      ]
     },
     "metadata": {},
     "output_type": "display_data"
    }
   ],
   "source": [
    "pgn_map = {\n",
    "    '59392': 'NMEA2000', # Acknowledge\n",
    "    '59904': 'NMEA2000', # Request for Address Claimed\n",
    "    '60928': 'NMEA2000', # Address Claimed\n",
    "    '126208': 'Controller', # Request Group Function\n",
    "    '126720': 'Proprietary', # Addressable Multi-Frame Proprietary\n",
    "# For Future Research\n",
    "# PGN 126720-32 Proprietary: Attitude Offsets\n",
    "# PGN 126720-33 Proprietary: Calibrate Compass\n",
    "# PGN 126720-34 Proprietary: True Wind Options\n",
    "# PGN 126720-35 Proprietary: Simulate Mode\n",
    "# PGN 126720-49 Set WAAS Satellite\n",
    "# PGN 126720-50 Set Tzz Parameter\n",
    "    '126992': 'NMEA2000', # System Time\n",
    "    '126993': 'NMEA2000', # Heartbeat\n",
    "    '127237': 'Autopilot',\n",
    "    '127250': 'Weather', # Vessel Heading\n",
    "    '127251': 'Weather', # Rate of Turn\n",
    "    '127257': 'Weather', # Attitude\n",
    "    '127258': 'Weather', # Magnetic Variation\n",
    "    '128259': 'Speed', # Speed\n",
    "    '128267': 'Speed', # Water Depth\n",
    "    '128275': 'Speed',\n",
    "    '129025': 'Weather', # Position, Rapid Update\n",
    "    '129026': 'Weather', # COG & SOG, Rapid Update\n",
    "    '129029': 'GPS', # GNSS Position Data\n",
    "    '129033': 'GPS', # Time & Date\n",
    "    '129044': 'GPS', # Datum\n",
    "    '129538': 'GPS', # GNSS Control Status\n",
    "    '129539': 'GPS', # GNSS DOPs\n",
    "    '129540': 'GPS', # GNSS Sats in View \n",
    "    '130306': 'Weather', # Wind Data\n",
    "    '130311': 'Speed', # Environmental Parameters\n",
    "    '130312': 'Weather', # Temperature\n",
    "    '130314': 'Weather', # Actual Pressure\n",
    "    '130316': 'Weather', # Temperature\n",
    "    '130821': 'Auto Pilot', # NavSource Speed (FEC)\n",
    "    '130323': 'Weather', # Meteorological Station Data\n",
    "    '130823': 'Auto Pilot', #  Browser Control Status (FEC)\n",
    "    '130827': 'Auto Pilot' #FURUNO Proprietary\n",
    "}\n",
    "\n",
    "display(\"WhatIsThis\")\n",
    "\n",
    "for n2k_log in n2k_logs:\n",
    "    devices = list()\n",
    "    \n",
    "    for src in n2k_log[\"src\"].unique():\n",
    "        if '' == src:\n",
    "            continue\n",
    "            \n",
    "        device = dict()\n",
    "        device['src'] = src\n",
    "        device['device'] = list()\n",
    "\n",
    "        for pgn in n2k_log[n2k_log.src == src][\"pgn\"].unique():\n",
    "            if str(pgn) in pgn_map.keys():\n",
    "                if pgn_map[str(pgn)] not in device['device']:\n",
    "                    device['device'].append(pgn_map[str(pgn)])\n",
    "            else:\n",
    "                device['device'].append(\"Unk_\" + str(pgn))\n",
    "\n",
    "        devices.append(device)\n",
    "\n",
    "    pandas.set_option(\"max_colwidth\", 200)\n",
    "    display(pandas.DataFrame(devices).sort_values(by='src'))"
   ]
  },
  {
   "cell_type": "code",
   "execution_count": 12,
   "metadata": {},
   "outputs": [
    {
     "data": {
      "text/plain": [
       "'TalkFast'"
      ]
     },
     "metadata": {},
     "output_type": "display_data"
    },
    {
     "data": {
      "text/plain": [
       "'This turned out to overcomplicate the answer, as I seperated the updates per device, whereas the admins just took a rough average.'"
      ]
     },
     "metadata": {},
     "output_type": "display_data"
    },
    {
     "data": {
      "text/plain": [
       "'59392'"
      ]
     },
     "metadata": {},
     "output_type": "display_data"
    },
    {
     "data": {
      "text/plain": [
       "{'Device': 36,\n",
       " 'Smallest Delta': 4,\n",
       " 'Total Entries': 547,\n",
       " 'First': 23122861,\n",
       " 'Last': 23905669,\n",
       " 'Average': 1431.0932358318098}"
      ]
     },
     "metadata": {},
     "output_type": "display_data"
    },
    {
     "data": {
      "text/plain": [
       "{'Device': 4,\n",
       " 'Smallest Delta': 4860,\n",
       " 'Total Entries': 155,\n",
       " 'First': 23126323,\n",
       " 'Last': 23903786,\n",
       " 'Average': 5015.890322580645}"
      ]
     },
     "metadata": {},
     "output_type": "display_data"
    },
    {
     "data": {
      "text/plain": [
       "{'Device': 5,\n",
       " 'Smallest Delta': 0,\n",
       " 'Total Entries': 405,\n",
       " 'First': 23122859,\n",
       " 'Last': 23905672,\n",
       " 'Average': 1932.8716049382715}"
      ]
     },
     "metadata": {},
     "output_type": "display_data"
    },
    {
     "data": {
      "text/plain": [
       "{'Device': 3,\n",
       " 'Smallest Delta': 1,\n",
       " 'Total Entries': 560,\n",
       " 'First': 23122860,\n",
       " 'Last': 23905669,\n",
       " 'Average': 1397.8732142857143}"
      ]
     },
     "metadata": {},
     "output_type": "display_data"
    },
    {
     "data": {
      "text/plain": [
       "'60928'"
      ]
     },
     "metadata": {},
     "output_type": "display_data"
    },
    {
     "data": {
      "text/plain": [
       "{'Device': 36,\n",
       " 'Smallest Delta': 20754,\n",
       " 'Total Entries': 38,\n",
       " 'First': 23123872,\n",
       " 'Last': 23897362,\n",
       " 'Average': 20355.0}"
      ]
     },
     "metadata": {},
     "output_type": "display_data"
    },
    {
     "data": {
      "text/plain": [
       "{'Device': 35,\n",
       " 'Smallest Delta': 20754,\n",
       " 'Total Entries': 38,\n",
       " 'First': 23123872,\n",
       " 'Last': 23897361,\n",
       " 'Average': 20354.973684210527}"
      ]
     },
     "metadata": {},
     "output_type": "display_data"
    },
    {
     "data": {
      "text/plain": [
       "{'Device': 2,\n",
       " 'Smallest Delta': 20754,\n",
       " 'Total Entries': 38,\n",
       " 'First': 23123870,\n",
       " 'Last': 23897360,\n",
       " 'Average': 20355.0}"
      ]
     },
     "metadata": {},
     "output_type": "display_data"
    },
    {
     "data": {
      "text/plain": [
       "{'Device': 5,\n",
       " 'Smallest Delta': 20753,\n",
       " 'Total Entries': 38,\n",
       " 'First': 23123871,\n",
       " 'Last': 23897361,\n",
       " 'Average': 20355.0}"
      ]
     },
     "metadata": {},
     "output_type": "display_data"
    },
    {
     "data": {
      "text/plain": [
       "{'Device': 3,\n",
       " 'Smallest Delta': 20754,\n",
       " 'Total Entries': 38,\n",
       " 'First': 23123871,\n",
       " 'Last': 23897360,\n",
       " 'Average': 20354.973684210527}"
      ]
     },
     "metadata": {},
     "output_type": "display_data"
    },
    {
     "data": {
      "text/plain": [
       "{'Device': 1,\n",
       " 'Smallest Delta': 20754,\n",
       " 'Total Entries': 38,\n",
       " 'First': 23123867,\n",
       " 'Last': 23897358,\n",
       " 'Average': 20355.026315789473}"
      ]
     },
     "metadata": {},
     "output_type": "display_data"
    },
    {
     "data": {
      "text/plain": [
       "'126992'"
      ]
     },
     "metadata": {},
     "output_type": "display_data"
    },
    {
     "data": {
      "text/plain": [
       "{'Device': 36,\n",
       " 'Smallest Delta': 992,\n",
       " 'Total Entries': 785,\n",
       " 'First': 23121876,\n",
       " 'Last': 23905918,\n",
       " 'Average': 998.7796178343949}"
      ]
     },
     "metadata": {},
     "output_type": "display_data"
    },
    {
     "data": {
      "text/plain": [
       "'127250'"
      ]
     },
     "metadata": {},
     "output_type": "display_data"
    },
    {
     "data": {
      "text/plain": [
       "{'Device': 36,\n",
       " 'Smallest Delta': 3,\n",
       " 'Total Entries': 31416,\n",
       " 'First': 23121350,\n",
       " 'Last': 23906768,\n",
       " 'Average': 25.000572956455308}"
      ]
     },
     "metadata": {},
     "output_type": "display_data"
    },
    {
     "data": {
      "text/plain": [
       "'127251'"
      ]
     },
     "metadata": {},
     "output_type": "display_data"
    },
    {
     "data": {
      "text/plain": [
       "{'Device': 36,\n",
       " 'Smallest Delta': 81,\n",
       " 'Total Entries': 7854,\n",
       " 'First': 23121376,\n",
       " 'Last': 23906718,\n",
       " 'Average': 99.99261522790934}"
      ]
     },
     "metadata": {},
     "output_type": "display_data"
    },
    {
     "data": {
      "text/plain": [
       "'127257'"
      ]
     },
     "metadata": {},
     "output_type": "display_data"
    },
    {
     "data": {
      "text/plain": [
       "{'Device': 36,\n",
       " 'Smallest Delta': 988,\n",
       " 'Total Entries': 785,\n",
       " 'First': 23121878,\n",
       " 'Last': 23905921,\n",
       " 'Average': 998.7808917197452}"
      ]
     },
     "metadata": {},
     "output_type": "display_data"
    },
    {
     "data": {
      "text/plain": [
       "'127258'"
      ]
     },
     "metadata": {},
     "output_type": "display_data"
    },
    {
     "data": {
      "text/plain": [
       "{'Device': 36,\n",
       " 'Smallest Delta': 990,\n",
       " 'Total Entries': 785,\n",
       " 'First': 23121877,\n",
       " 'Last': 23905920,\n",
       " 'Average': 998.7808917197452}"
      ]
     },
     "metadata": {},
     "output_type": "display_data"
    },
    {
     "data": {
      "text/plain": [
       "'129025'"
      ]
     },
     "metadata": {},
     "output_type": "display_data"
    },
    {
     "data": {
      "text/plain": [
       "{'Device': 36,\n",
       " 'Smallest Delta': 182,\n",
       " 'Total Entries': 3927,\n",
       " 'First': 23121476,\n",
       " 'Last': 23906718,\n",
       " 'Average': 199.9597657244716}"
      ]
     },
     "metadata": {},
     "output_type": "display_data"
    },
    {
     "data": {
      "text/plain": [
       "'129026'"
      ]
     },
     "metadata": {},
     "output_type": "display_data"
    },
    {
     "data": {
      "text/plain": [
       "{'Device': 36,\n",
       " 'Smallest Delta': 182,\n",
       " 'Total Entries': 3927,\n",
       " 'First': 23121477,\n",
       " 'Last': 23906719,\n",
       " 'Average': 199.9597657244716}"
      ]
     },
     "metadata": {},
     "output_type": "display_data"
    },
    {
     "data": {
      "text/plain": [
       "'129029'"
      ]
     },
     "metadata": {},
     "output_type": "display_data"
    },
    {
     "data": {
      "text/plain": [
       "{'Device': 36,\n",
       " 'Smallest Delta': 975,\n",
       " 'Total Entries': 785,\n",
       " 'First': 23121894,\n",
       " 'Last': 23905937,\n",
       " 'Average': 998.7808917197452}"
      ]
     },
     "metadata": {},
     "output_type": "display_data"
    },
    {
     "data": {
      "text/plain": [
       "{'Device': 2,\n",
       " 'Smallest Delta': 91,\n",
       " 'Total Entries': 785,\n",
       " 'First': 23122109,\n",
       " 'Last': 23906585,\n",
       " 'Average': 999.3324840764332}"
      ]
     },
     "metadata": {},
     "output_type": "display_data"
    },
    {
     "data": {
      "text/plain": [
       "'129033'"
      ]
     },
     "metadata": {},
     "output_type": "display_data"
    },
    {
     "data": {
      "text/plain": [
       "{'Device': 36,\n",
       " 'Smallest Delta': 992,\n",
       " 'Total Entries': 785,\n",
       " 'First': 23121877,\n",
       " 'Last': 23905919,\n",
       " 'Average': 998.7796178343949}"
      ]
     },
     "metadata": {},
     "output_type": "display_data"
    },
    {
     "data": {
      "text/plain": [
       "'129044'"
      ]
     },
     "metadata": {},
     "output_type": "display_data"
    },
    {
     "data": {
      "text/plain": [
       "{'Device': 36,\n",
       " 'Smallest Delta': 9984,\n",
       " 'Total Entries': 78,\n",
       " 'First': 23126899,\n",
       " 'Last': 23896939,\n",
       " 'Average': 9872.307692307691}"
      ]
     },
     "metadata": {},
     "output_type": "display_data"
    },
    {
     "data": {
      "text/plain": [
       "'129538'"
      ]
     },
     "metadata": {},
     "output_type": "display_data"
    },
    {
     "data": {
      "text/plain": [
       "{'Device': 36,\n",
       " 'Smallest Delta': 60032,\n",
       " 'Total Entries': 13,\n",
       " 'First': 23136864,\n",
       " 'Last': 23857621,\n",
       " 'Average': 55442.846153846156}"
      ]
     },
     "metadata": {},
     "output_type": "display_data"
    },
    {
     "data": {
      "text/plain": [
       "'129539'"
      ]
     },
     "metadata": {},
     "output_type": "display_data"
    },
    {
     "data": {
      "text/plain": [
       "{'Device': 36,\n",
       " 'Smallest Delta': 987,\n",
       " 'Total Entries': 785,\n",
       " 'First': 23121881,\n",
       " 'Last': 23905924,\n",
       " 'Average': 998.7808917197452}"
      ]
     },
     "metadata": {},
     "output_type": "display_data"
    },
    {
     "data": {
      "text/plain": [
       "'129540'"
      ]
     },
     "metadata": {},
     "output_type": "display_data"
    },
    {
     "data": {
      "text/plain": [
       "{'Device': 36,\n",
       " 'Smallest Delta': 978,\n",
       " 'Total Entries': 785,\n",
       " 'First': 23121916,\n",
       " 'Last': 23905960,\n",
       " 'Average': 998.7821656050955}"
      ]
     },
     "metadata": {},
     "output_type": "display_data"
    },
    {
     "data": {
      "text/plain": [
       "'130306'"
      ]
     },
     "metadata": {},
     "output_type": "display_data"
    },
    {
     "data": {
      "text/plain": [
       "{'Device': 36,\n",
       " 'Smallest Delta': 242,\n",
       " 'Total Entries': 3141,\n",
       " 'First': 23121375,\n",
       " 'Last': 23906668,\n",
       " 'Average': 250.01368990767273}"
      ]
     },
     "metadata": {},
     "output_type": "display_data"
    },
    {
     "data": {
      "text/plain": [
       "'130323'"
      ]
     },
     "metadata": {},
     "output_type": "display_data"
    },
    {
     "data": {
      "text/plain": [
       "{'Device': 36,\n",
       " 'Smallest Delta': 989,\n",
       " 'Total Entries': 785,\n",
       " 'First': 23121878,\n",
       " 'Last': 23905921,\n",
       " 'Average': 998.7808917197452}"
      ]
     },
     "metadata": {},
     "output_type": "display_data"
    },
    {
     "data": {
      "text/plain": [
       "'130945'"
      ]
     },
     "metadata": {},
     "output_type": "display_data"
    },
    {
     "data": {
      "text/plain": [
       "{'Device': 36,\n",
       " 'Smallest Delta': 4294967295,\n",
       " 'Total Entries': 1,\n",
       " 'First': 23606968,\n",
       " 'Last': 23606968,\n",
       " 'Average': 0.0}"
      ]
     },
     "metadata": {},
     "output_type": "display_data"
    },
    {
     "data": {
      "text/plain": [
       "'61184'"
      ]
     },
     "metadata": {},
     "output_type": "display_data"
    },
    {
     "data": {
      "text/plain": [
       "{'Device': 16,\n",
       " 'Smallest Delta': 47,\n",
       " 'Total Entries': 15656,\n",
       " 'First': 23121358,\n",
       " 'Last': 23906747,\n",
       " 'Average': 50.16536791006643}"
      ]
     },
     "metadata": {},
     "output_type": "display_data"
    },
    {
     "data": {
      "text/plain": [
       "{'Device': 48,\n",
       " 'Smallest Delta': 48,\n",
       " 'Total Entries': 15656,\n",
       " 'First': 23121360,\n",
       " 'Last': 23906729,\n",
       " 'Average': 50.164090444558}"
      ]
     },
     "metadata": {},
     "output_type": "display_data"
    },
    {
     "data": {
      "text/plain": [
       "{'Device': 50,\n",
       " 'Smallest Delta': 45,\n",
       " 'Total Entries': 15656,\n",
       " 'First': 23121360,\n",
       " 'Last': 23906730,\n",
       " 'Average': 50.16415431783342}"
      ]
     },
     "metadata": {},
     "output_type": "display_data"
    },
    {
     "data": {
      "text/plain": [
       "{'Device': 64,\n",
       " 'Smallest Delta': 47,\n",
       " 'Total Entries': 15644,\n",
       " 'First': 23121372,\n",
       " 'Last': 23906734,\n",
       " 'Average': 50.20212221938123}"
      ]
     },
     "metadata": {},
     "output_type": "display_data"
    },
    {
     "data": {
      "text/plain": [
       "{'Device': 65,\n",
       " 'Smallest Delta': 47,\n",
       " 'Total Entries': 15644,\n",
       " 'First': 23121372,\n",
       " 'Last': 23906734,\n",
       " 'Average': 50.20212221938123}"
      ]
     },
     "metadata": {},
     "output_type": "display_data"
    },
    {
     "data": {
      "text/plain": [
       "{'Device': 32,\n",
       " 'Smallest Delta': 48,\n",
       " 'Total Entries': 15654,\n",
       " 'First': 23121381,\n",
       " 'Last': 23906736,\n",
       " 'Average': 50.16960521272518}"
      ]
     },
     "metadata": {},
     "output_type": "display_data"
    },
    {
     "data": {
      "text/plain": [
       "'128259'"
      ]
     },
     "metadata": {},
     "output_type": "display_data"
    },
    {
     "data": {
      "text/plain": [
       "{'Device': 35,\n",
       " 'Smallest Delta': 198,\n",
       " 'Total Entries': 3925,\n",
       " 'First': 23121389,\n",
       " 'Last': 23906703,\n",
       " 'Average': 200.08}"
      ]
     },
     "metadata": {},
     "output_type": "display_data"
    },
    {
     "data": {
      "text/plain": [
       "'128267'"
      ]
     },
     "metadata": {},
     "output_type": "display_data"
    },
    {
     "data": {
      "text/plain": [
       "{'Device': 35,\n",
       " 'Smallest Delta': 998,\n",
       " 'Total Entries': 785,\n",
       " 'First': 23121916,\n",
       " 'Last': 23905920,\n",
       " 'Average': 998.7312101910828}"
      ]
     },
     "metadata": {},
     "output_type": "display_data"
    },
    {
     "data": {
      "text/plain": [
       "'128275'"
      ]
     },
     "metadata": {},
     "output_type": "display_data"
    },
    {
     "data": {
      "text/plain": [
       "{'Device': 35,\n",
       " 'Smallest Delta': 995,\n",
       " 'Total Entries': 785,\n",
       " 'First': 23121918,\n",
       " 'Last': 23905932,\n",
       " 'Average': 998.743949044586}"
      ]
     },
     "metadata": {},
     "output_type": "display_data"
    },
    {
     "data": {
      "text/plain": [
       "'59904'"
      ]
     },
     "metadata": {},
     "output_type": "display_data"
    },
    {
     "data": {
      "text/plain": [
       "{'Device': 4,\n",
       " 'Smallest Delta': 0,\n",
       " 'Total Entries': 1983,\n",
       " 'First': 23122854,\n",
       " 'Last': 23906341,\n",
       " 'Average': 395.10186585980836}"
      ]
     },
     "metadata": {},
     "output_type": "display_data"
    },
    {
     "data": {
      "text/plain": [
       "{'Device': 5,\n",
       " 'Smallest Delta': 0,\n",
       " 'Total Entries': 2459,\n",
       " 'First': 23122904,\n",
       " 'Last': 23906666,\n",
       " 'Average': 318.73200488003255}"
      ]
     },
     "metadata": {},
     "output_type": "display_data"
    },
    {
     "data": {
      "text/plain": [
       "'126208'"
      ]
     },
     "metadata": {},
     "output_type": "display_data"
    },
    {
     "data": {
      "text/plain": [
       "{'Device': 4,\n",
       " 'Smallest Delta': 1,\n",
       " 'Total Entries': 1578,\n",
       " 'First': 23123261,\n",
       " 'Last': 23906338,\n",
       " 'Average': 496.24651457541194}"
      ]
     },
     "metadata": {},
     "output_type": "display_data"
    },
    {
     "data": {
      "text/plain": [
       "{'Device': 3,\n",
       " 'Smallest Delta': 20753,\n",
       " 'Total Entries': 38,\n",
       " 'First': 23123874,\n",
       " 'Last': 23897362,\n",
       " 'Average': 20354.947368421053}"
      ]
     },
     "metadata": {},
     "output_type": "display_data"
    },
    {
     "data": {
      "text/plain": [
       "'130821'"
      ]
     },
     "metadata": {},
     "output_type": "display_data"
    },
    {
     "data": {
      "text/plain": [
       "{'Device': 4,\n",
       " 'Smallest Delta': 1,\n",
       " 'Total Entries': 1442,\n",
       " 'First': 23121738,\n",
       " 'Last': 23905855,\n",
       " 'Average': 543.7704576976422}"
      ]
     },
     "metadata": {},
     "output_type": "display_data"
    },
    {
     "data": {
      "text/plain": [
       "'130827'"
      ]
     },
     "metadata": {},
     "output_type": "display_data"
    },
    {
     "data": {
      "text/plain": [
       "{'Device': 4,\n",
       " 'Smallest Delta': 1,\n",
       " 'Total Entries': 939,\n",
       " 'First': 23121451,\n",
       " 'Last': 23905816,\n",
       " 'Average': 835.3194888178914}"
      ]
     },
     "metadata": {},
     "output_type": "display_data"
    },
    {
     "data": {
      "text/plain": [
       "{'Device': 5,\n",
       " 'Smallest Delta': 995,\n",
       " 'Total Entries': 782,\n",
       " 'First': 23122187,\n",
       " 'Last': 23905924,\n",
       " 'Average': 1002.2212276214834}"
      ]
     },
     "metadata": {},
     "output_type": "display_data"
    },
    {
     "data": {
      "text/plain": [
       "'130823'"
      ]
     },
     "metadata": {},
     "output_type": "display_data"
    },
    {
     "data": {
      "text/plain": [
       "{'Device': 5,\n",
       " 'Smallest Delta': 20754,\n",
       " 'Total Entries': 38,\n",
       " 'First': 23123875,\n",
       " 'Last': 23897363,\n",
       " 'Average': 20354.947368421053}"
      ]
     },
     "metadata": {},
     "output_type": "display_data"
    }
   ],
   "source": [
    "# This includes non-NMEA2000 canbus IDs as PGNs\n",
    "\n",
    "display(\"TalkFast\", \"This turned out to overcomplicate the answer, as I seperated the updates per device, whereas the admins just took a rough average.\")\n",
    "pgn_refresh = dict()\n",
    "\n",
    "for n2k_log in n2k_logs:\n",
    "    for src in n2k_log[\"src\"].unique():\n",
    "        if '' == src:\n",
    "            continue\n",
    "        \n",
    "        n2k_src = n2k_log[n2k_log.src == src]\n",
    "        \n",
    "        for pgn in n2k_src[n2k_src.pgn != ''].sort_values(by=['pgn']).pgn.unique():\n",
    "            first_ts = 0\n",
    "            last_ts = 0\n",
    "            smallest_delta = 0xffffffff\n",
    "            entries = 0\n",
    "\n",
    "            for ts in n2k_src[n2k_src.pgn == pgn][\"timestamp\"]:\n",
    "                entries = entries + 1\n",
    "                \n",
    "                if 0 == last_ts:\n",
    "                    last_ts = ts\n",
    "                    first_ts = ts\n",
    "                    continue\n",
    "\n",
    "                delta = ts-last_ts\n",
    "                last_ts = ts\n",
    "                \n",
    "                if delta < smallest_delta:\n",
    "                    smallest_delta = delta\n",
    "            \n",
    "            if str(pgn) not in pgn_refresh.keys():\n",
    "                pgn_refresh[str(pgn)] = list()\n",
    "            \n",
    "            pgn_refresh[str(pgn)].append({\n",
    "                \"Device\": src,\n",
    "                \"Smallest Delta\": smallest_delta,\n",
    "                \"Total Entries\": entries,\n",
    "                \"First\": first_ts,\n",
    "                \"Last\": ts,\n",
    "                \"Average\" : (ts-first_ts)/entries\n",
    "            })\n",
    "\n",
    "for pgn in pgn_refresh.keys():\n",
    "    display(pgn)\n",
    "    \n",
    "    for _ in pgn_refresh[pgn]:\n",
    "        display(_)"
   ]
  },
  {
   "cell_type": "code",
   "execution_count": 13,
   "metadata": {},
   "outputs": [
    {
     "data": {
      "text/plain": [
       "'SpoofedMessage'"
      ]
     },
     "metadata": {},
     "output_type": "display_data"
    },
    {
     "data": {
      "text/plain": [
       "4"
      ]
     },
     "metadata": {},
     "output_type": "display_data"
    },
    {
     "data": {
      "text/plain": [
       "[130827, 130821, 59904, 126208, 59392]"
      ]
     },
     "metadata": {},
     "output_type": "display_data"
    },
    {
     "data": {
      "text/plain": [
       "5"
      ]
     },
     "metadata": {},
     "output_type": "display_data"
    },
    {
     "data": {
      "text/plain": [
       "[130827, 59392, 59904, 60928, 130823]"
      ]
     },
     "metadata": {},
     "output_type": "display_data"
    }
   ],
   "source": [
    "display('SpoofedMessage')\n",
    "\n",
    "srcs = [4, 5]\n",
    "\n",
    "for src in srcs:\n",
    "    pgns = list()\n",
    "    \n",
    "    for pgn in n2k_log[n2k_log.src == src][\"pgn\"].unique():\n",
    "        pgns.append(pgn)\n",
    "    \n",
    "    display(src, pgns)\n",
    "\n",
    "# '59392': 'NMEA2000', # Acknowledge\n",
    "# '59904': 'NMEA2000', # Request for Address Claimed\n",
    "# '126208': 'NMEA2000', # Request Group Function\n",
    "# '130821': 'Auto Pilot', # NavSource Speed (FEC)\n",
    "# '130823': 'Auto Pilot', # Browser Control Status (FEC)\n",
    "# '130827': 'Auto Pilot' # FURUNO Proprietary"
   ]
  },
  {
   "cell_type": "code",
   "execution_count": 14,
   "metadata": {},
   "outputs": [],
   "source": [
    "def pinpoint(frames, timestamp):\n",
    "    time_text = parse_timestamp(timestamp)\n",
    "    frame = parse_frames(frames)\n",
    "    display(time_text, frame)"
   ]
  },
  {
   "cell_type": "code",
   "execution_count": 15,
   "metadata": {},
   "outputs": [
    {
     "data": {
      "text/plain": [
       "'Pinpoint 1'"
      ]
     },
     "metadata": {},
     "output_type": "display_data"
    },
    {
     "data": {
      "text/plain": [
       "'2020-07-23-18:25:04.747'"
      ]
     },
     "metadata": {},
     "output_type": "display_data"
    },
    {
     "data": {
      "text/plain": [
       "[{'start': b'\\x10\\x02',\n",
       "  'cmd': 147,\n",
       "  'len': 19,\n",
       "  'priority': 2,\n",
       "  'pgn': 127250,\n",
       "  'dst': 255,\n",
       "  'src': 36,\n",
       "  'timestamp': 891884,\n",
       "  'datalen': 8,\n",
       "  'data': '21,9d,03,00,00,ba,02,fd',\n",
       "  'crc': 27,\n",
       "  'end': b'\\x10\\x03'}]"
      ]
     },
     "metadata": {},
     "output_type": "display_data"
    }
   ],
   "source": [
    "display(\"Pinpoint 1\")\n",
    "\n",
    "encoded_frame = \"EAKTEwIS8QH/JOybDQAIIZ0DAAC6Av0bEAM=\"\n",
    "timestamp = 1595528704747\n",
    "\n",
    "pinpoint(base64.b64decode(encoded_frame), timestamp)"
   ]
  },
  {
   "cell_type": "code",
   "execution_count": 16,
   "metadata": {},
   "outputs": [
    {
     "data": {
      "text/plain": [
       "'Pinpoint 2'"
      ]
     },
     "metadata": {},
     "output_type": "display_data"
    },
    {
     "data": {
      "text/plain": [
       "'2020-08-05-20:36:52.869'"
      ]
     },
     "metadata": {},
     "output_type": "display_data"
    },
    {
     "data": {
      "text/plain": [
       "[{'start': b'\\x10\\x02',\n",
       "  'cmd': 147,\n",
       "  'len': 19,\n",
       "  'priority': 2,\n",
       "  'pgn': 128259,\n",
       "  'dst': 255,\n",
       "  'src': 35,\n",
       "  'timestamp': 561164,\n",
       "  'datalen': 8,\n",
       "  'data': 'ff,5f,01,ff,ff,00,ff,ff',\n",
       "  'crc': 54,\n",
       "  'end': b'\\x10\\x03'}]"
      ]
     },
     "metadata": {},
     "output_type": "display_data"
    }
   ],
   "source": [
    "display(\"Pinpoint 2\")\n",
    "\n",
    "frame = b'\\x10\\x02\\x93\\x13\\x02\\x03\\xf5\\x01\\xff\\x23\\x0c\\x90\\x08\\x00\\x08\\xff\\x5f\\x01\\xff\\xff\\x00\\xff\\xff\\x36\\x10\\x03'\n",
    "timestamp = 1596659812869\n",
    "\n",
    "pinpoint(frame, timestamp)"
   ]
  },
  {
   "cell_type": "code",
   "execution_count": 17,
   "metadata": {},
   "outputs": [
    {
     "data": {
      "text/plain": [
       "'Pinpoint 3'"
      ]
     },
     "metadata": {},
     "output_type": "display_data"
    },
    {
     "data": {
      "text/plain": [
       "'2020-08-05-20:36:52.869'"
      ]
     },
     "metadata": {},
     "output_type": "display_data"
    },
    {
     "data": {
      "text/plain": [
       "[{'start': b'\\x10\\x02',\n",
       "  'cmd': 147,\n",
       "  'len': 19,\n",
       "  'priority': 2,\n",
       "  'pgn': 129025,\n",
       "  'dst': 255,\n",
       "  'src': 36,\n",
       "  'timestamp': 598812,\n",
       "  'datalen': 8,\n",
       "  'data': 'ff,ff,ff,7f,ff,ff,ff,7f',\n",
       "  'crc': 243,\n",
       "  'end': b'\\x10\\x03'}]"
      ]
     },
     "metadata": {},
     "output_type": "display_data"
    }
   ],
   "source": [
    "display(\"Pinpoint 3\")\n",
    "\n",
    "frame = b'\\x10\\x02\\x93\\x13\\x02\\x01\\xf8\\x01\\xff\\x24\\x1c\\x23\\x09\\x00\\x08\\xff\\xff\\xff\\x7f\\xff\\xff\\xff\\x7f\\xf3\\x10\\x03'\n",
    "timestamp = 1596659812869\n",
    "\n",
    "pinpoint(frame, timestamp)"
   ]
  },
  {
   "cell_type": "code",
   "execution_count": 18,
   "metadata": {},
   "outputs": [
    {
     "data": {
      "text/plain": [
       "array([4, 3], dtype=object)"
      ]
     },
     "metadata": {},
     "output_type": "display_data"
    }
   ],
   "source": [
    "for n2k_log in n2k_logs:\n",
    "    n2k_ap = n2k_log[n2k_log.pgn == 126208].src.unique()\n",
    "    display(n2k_ap)"
   ]
  }
 ],
 "metadata": {
  "kernelspec": {
   "display_name": "Python 3",
   "language": "python",
   "name": "python3"
  },
  "language_info": {
   "codemirror_mode": {
    "name": "ipython",
    "version": 3
   },
   "file_extension": ".py",
   "mimetype": "text/x-python",
   "name": "python",
   "nbconvert_exporter": "python",
   "pygments_lexer": "ipython3",
   "version": "3.6.9"
  }
 },
 "nbformat": 4,
 "nbformat_minor": 4
}
